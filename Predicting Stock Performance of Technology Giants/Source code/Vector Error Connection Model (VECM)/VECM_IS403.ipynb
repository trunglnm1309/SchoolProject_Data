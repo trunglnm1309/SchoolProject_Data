{
 "cells": [
  {
   "attachments": {},
   "cell_type": "markdown",
   "metadata": {},
   "source": [
    "### Dự báo giá đóng cửa của cổ phiếu (Close) của GOOGL sử dụng mô hình VECM"
   ]
  },
  {
   "cell_type": "code",
   "execution_count": 26,
   "metadata": {},
   "outputs": [],
   "source": [
    "#Import các thư viện cần thiết\n",
    "import numpy as np\n",
    "import pandas as pd\n",
    "import seaborn as sns\n",
    "%matplotlib inline\n",
    "from matplotlib import pyplot as plt\n",
    "from matplotlib import style\n",
    "from keras.models import Sequential\n",
    "from keras.layers import Dense, Flatten, Dropout\n",
    "from sklearn.preprocessing import StandardScaler\n",
    "\n",
    "from statsmodels.tsa.stattools import adfuller\n",
    "from statsmodels.tsa.vector_ar.var_model import VAR\n",
    "from statsmodels.tsa.vector_ar.vecm import select_coint_rank\n",
    "from statsmodels.tsa.vector_ar.vecm import VECM\n",
    "from numpy import cumsum\n",
    "from datetime import datetime, timedelta\n",
    "import matplotlib.pyplot as plt"
   ]
  },
  {
   "attachments": {},
   "cell_type": "markdown",
   "metadata": {},
   "source": [
    "#### Import & xem tổng quan về dataset"
   ]
  },
  {
   "cell_type": "code",
   "execution_count": 27,
   "metadata": {},
   "outputs": [
    {
     "data": {
      "text/html": [
       "<div>\n",
       "<style scoped>\n",
       "    .dataframe tbody tr th:only-of-type {\n",
       "        vertical-align: middle;\n",
       "    }\n",
       "\n",
       "    .dataframe tbody tr th {\n",
       "        vertical-align: top;\n",
       "    }\n",
       "\n",
       "    .dataframe thead th {\n",
       "        text-align: right;\n",
       "    }\n",
       "</style>\n",
       "<table border=\"1\" class=\"dataframe\">\n",
       "  <thead>\n",
       "    <tr style=\"text-align: right;\">\n",
       "      <th></th>\n",
       "      <th>Open</th>\n",
       "      <th>High</th>\n",
       "      <th>Low</th>\n",
       "      <th>Close</th>\n",
       "      <th>Adj Close</th>\n",
       "      <th>Volume</th>\n",
       "    </tr>\n",
       "  </thead>\n",
       "  <tbody>\n",
       "    <tr>\n",
       "      <th>count</th>\n",
       "      <td>1394.000000</td>\n",
       "      <td>1394.000000</td>\n",
       "      <td>1394.000000</td>\n",
       "      <td>1394.000000</td>\n",
       "      <td>1394.000000</td>\n",
       "      <td>1.394000e+03</td>\n",
       "    </tr>\n",
       "    <tr>\n",
       "      <th>mean</th>\n",
       "      <td>86.733393</td>\n",
       "      <td>87.728808</td>\n",
       "      <td>85.772660</td>\n",
       "      <td>86.774301</td>\n",
       "      <td>86.774301</td>\n",
       "      <td>3.537585e+07</td>\n",
       "    </tr>\n",
       "    <tr>\n",
       "      <th>std</th>\n",
       "      <td>30.143207</td>\n",
       "      <td>30.458600</td>\n",
       "      <td>29.794044</td>\n",
       "      <td>30.123265</td>\n",
       "      <td>30.123265</td>\n",
       "      <td>1.586153e+07</td>\n",
       "    </tr>\n",
       "    <tr>\n",
       "      <th>min</th>\n",
       "      <td>49.216000</td>\n",
       "      <td>50.605999</td>\n",
       "      <td>48.882999</td>\n",
       "      <td>49.233501</td>\n",
       "      <td>49.233501</td>\n",
       "      <td>9.312000e+06</td>\n",
       "    </tr>\n",
       "    <tr>\n",
       "      <th>25%</th>\n",
       "      <td>59.036500</td>\n",
       "      <td>59.520999</td>\n",
       "      <td>58.425876</td>\n",
       "      <td>58.966751</td>\n",
       "      <td>58.966751</td>\n",
       "      <td>2.535450e+07</td>\n",
       "    </tr>\n",
       "    <tr>\n",
       "      <th>50%</th>\n",
       "      <td>76.333000</td>\n",
       "      <td>77.747997</td>\n",
       "      <td>75.564999</td>\n",
       "      <td>76.272999</td>\n",
       "      <td>76.272999</td>\n",
       "      <td>3.154200e+07</td>\n",
       "    </tr>\n",
       "    <tr>\n",
       "      <th>75%</th>\n",
       "      <td>111.888496</td>\n",
       "      <td>113.365248</td>\n",
       "      <td>110.471003</td>\n",
       "      <td>111.993500</td>\n",
       "      <td>111.993500</td>\n",
       "      <td>4.024700e+07</td>\n",
       "    </tr>\n",
       "    <tr>\n",
       "      <th>max</th>\n",
       "      <td>151.250000</td>\n",
       "      <td>151.546494</td>\n",
       "      <td>148.899002</td>\n",
       "      <td>149.838501</td>\n",
       "      <td>149.838501</td>\n",
       "      <td>1.331780e+08</td>\n",
       "    </tr>\n",
       "  </tbody>\n",
       "</table>\n",
       "</div>"
      ],
      "text/plain": [
       "              Open         High          Low        Close    Adj Close  \\\n",
       "count  1394.000000  1394.000000  1394.000000  1394.000000  1394.000000   \n",
       "mean     86.733393    87.728808    85.772660    86.774301    86.774301   \n",
       "std      30.143207    30.458600    29.794044    30.123265    30.123265   \n",
       "min      49.216000    50.605999    48.882999    49.233501    49.233501   \n",
       "25%      59.036500    59.520999    58.425876    58.966751    58.966751   \n",
       "50%      76.333000    77.747997    75.564999    76.272999    76.272999   \n",
       "75%     111.888496   113.365248   110.471003   111.993500   111.993500   \n",
       "max     151.250000   151.546494   148.899002   149.838501   149.838501   \n",
       "\n",
       "             Volume  \n",
       "count  1.394000e+03  \n",
       "mean   3.537585e+07  \n",
       "std    1.586153e+07  \n",
       "min    9.312000e+06  \n",
       "25%    2.535450e+07  \n",
       "50%    3.154200e+07  \n",
       "75%    4.024700e+07  \n",
       "max    1.331780e+08  "
      ]
     },
     "execution_count": 27,
     "metadata": {},
     "output_type": "execute_result"
    }
   ],
   "source": [
    "df = pd.read_csv('/TH_DataMining/Dataset/GOOGL_stock_data.csv')\n",
    "df.describe()"
   ]
  },
  {
   "cell_type": "code",
   "execution_count": 28,
   "metadata": {},
   "outputs": [
    {
     "name": "stdout",
     "output_type": "stream",
     "text": [
      "<class 'pandas.core.frame.DataFrame'>\n",
      "RangeIndex: 1394 entries, 0 to 1393\n",
      "Data columns (total 7 columns):\n",
      " #   Column     Non-Null Count  Dtype  \n",
      "---  ------     --------------  -----  \n",
      " 0   Date       1394 non-null   object \n",
      " 1   Open       1394 non-null   float64\n",
      " 2   High       1394 non-null   float64\n",
      " 3   Low        1394 non-null   float64\n",
      " 4   Close      1394 non-null   float64\n",
      " 5   Adj Close  1394 non-null   float64\n",
      " 6   Volume     1394 non-null   int64  \n",
      "dtypes: float64(5), int64(1), object(1)\n",
      "memory usage: 76.4+ KB\n"
     ]
    }
   ],
   "source": [
    "df.info()"
   ]
  },
  {
   "attachments": {},
   "cell_type": "markdown",
   "metadata": {},
   "source": [
    "#### Tiền xử lý dữ liệu"
   ]
  },
  {
   "cell_type": "code",
   "execution_count": 29,
   "metadata": {},
   "outputs": [
    {
     "data": {
      "text/html": [
       "<div>\n",
       "<style scoped>\n",
       "    .dataframe tbody tr th:only-of-type {\n",
       "        vertical-align: middle;\n",
       "    }\n",
       "\n",
       "    .dataframe tbody tr th {\n",
       "        vertical-align: top;\n",
       "    }\n",
       "\n",
       "    .dataframe thead th {\n",
       "        text-align: right;\n",
       "    }\n",
       "</style>\n",
       "<table border=\"1\" class=\"dataframe\">\n",
       "  <thead>\n",
       "    <tr style=\"text-align: right;\">\n",
       "      <th></th>\n",
       "      <th>Date</th>\n",
       "      <th>Open</th>\n",
       "      <th>High</th>\n",
       "      <th>Low</th>\n",
       "      <th>Close</th>\n",
       "      <th>Adj Close</th>\n",
       "      <th>Volume</th>\n",
       "    </tr>\n",
       "  </thead>\n",
       "  <tbody>\n",
       "    <tr>\n",
       "      <th>0</th>\n",
       "      <td>2017-12-01</td>\n",
       "      <td>51.520500</td>\n",
       "      <td>51.862000</td>\n",
       "      <td>50.845001</td>\n",
       "      <td>51.253502</td>\n",
       "      <td>51.253502</td>\n",
       "      <td>37762000</td>\n",
       "    </tr>\n",
       "    <tr>\n",
       "      <th>1</th>\n",
       "      <td>2017-12-04</td>\n",
       "      <td>51.389999</td>\n",
       "      <td>51.567001</td>\n",
       "      <td>50.460999</td>\n",
       "      <td>50.593498</td>\n",
       "      <td>50.593498</td>\n",
       "      <td>38778000</td>\n",
       "    </tr>\n",
       "    <tr>\n",
       "      <th>2</th>\n",
       "      <td>2017-12-05</td>\n",
       "      <td>50.549500</td>\n",
       "      <td>51.834000</td>\n",
       "      <td>50.116001</td>\n",
       "      <td>50.980000</td>\n",
       "      <td>50.980000</td>\n",
       "      <td>38998000</td>\n",
       "    </tr>\n",
       "    <tr>\n",
       "      <th>3</th>\n",
       "      <td>2017-12-06</td>\n",
       "      <td>50.826000</td>\n",
       "      <td>51.979000</td>\n",
       "      <td>50.765499</td>\n",
       "      <td>51.636002</td>\n",
       "      <td>51.636002</td>\n",
       "      <td>28710000</td>\n",
       "    </tr>\n",
       "    <tr>\n",
       "      <th>4</th>\n",
       "      <td>2017-12-07</td>\n",
       "      <td>51.803501</td>\n",
       "      <td>52.445999</td>\n",
       "      <td>51.768002</td>\n",
       "      <td>52.228500</td>\n",
       "      <td>52.228500</td>\n",
       "      <td>30866000</td>\n",
       "    </tr>\n",
       "  </tbody>\n",
       "</table>\n",
       "</div>"
      ],
      "text/plain": [
       "        Date       Open       High        Low      Close  Adj Close    Volume\n",
       "0 2017-12-01  51.520500  51.862000  50.845001  51.253502  51.253502  37762000\n",
       "1 2017-12-04  51.389999  51.567001  50.460999  50.593498  50.593498  38778000\n",
       "2 2017-12-05  50.549500  51.834000  50.116001  50.980000  50.980000  38998000\n",
       "3 2017-12-06  50.826000  51.979000  50.765499  51.636002  51.636002  28710000\n",
       "4 2017-12-07  51.803501  52.445999  51.768002  52.228500  52.228500  30866000"
      ]
     },
     "execution_count": 29,
     "metadata": {},
     "output_type": "execute_result"
    }
   ],
   "source": [
    "# Chuyển đổi & sắp xếp cột 'Date' về đúng kiểu dữ liệu\n",
    "df['Date'] = pd.to_datetime(df['Date'])\n",
    "df = df.sort_values('Date')\n",
    "df.head(5)"
   ]
  },
  {
   "attachments": {},
   "cell_type": "markdown",
   "metadata": {},
   "source": [
    "#### Phân tách dữ liệu thành train, test và validate theo tỉ lệ"
   ]
  },
  {
   "cell_type": "code",
   "execution_count": 30,
   "metadata": {},
   "outputs": [],
   "source": [
    "# Chia train validate test theo tỉ lệ 7:1:2\n",
    "df = df.dropna() # Drop missing values\n",
    "df = df.reset_index(drop=True) # Reset the index\n",
    "\n",
    "# Split the data into training, testing, and validation sets\n",
    "train_size = int(0.7 * len(df))\n",
    "test_size = int(0.2 * len(df))\n",
    "val_size = len(df) - train_size - test_size\n",
    "\n",
    "train_data = df[:train_size]\n",
    "test_data = df[train_size:train_size+test_size]\n",
    "val_data = df[train_size+test_size:]"
   ]
  },
  {
   "cell_type": "code",
   "execution_count": 31,
   "metadata": {},
   "outputs": [
    {
     "name": "stdout",
     "output_type": "stream",
     "text": [
      "Train data shape: (975, 7)\n",
      "Test data shape: (278, 7)\n",
      "Validation data shape: (141, 7)\n"
     ]
    }
   ],
   "source": [
    "# In ra kích thước của các tập dữ liệu\n",
    "print(\"Train data shape:\", train_data.shape)\n",
    "print(\"Test data shape:\", test_data.shape)\n",
    "print(\"Validation data shape:\", val_data.shape)"
   ]
  },
  {
   "attachments": {},
   "cell_type": "markdown",
   "metadata": {},
   "source": [
    "#### Thực hiện xây dựng mô hình VECM\n",
    "##### Kiểm tra tính ổn định của các biến sử dụng Augmented Dickey-Fuller test"
   ]
  },
  {
   "cell_type": "code",
   "execution_count": 32,
   "metadata": {},
   "outputs": [],
   "source": [
    "def check_stationarity(data):\n",
    "    for col in data.columns:\n",
    "        result = adfuller(data[col])\n",
    "        print(f'{col}:')\n",
    "        print('ADF Statistic: %f' % result[0])\n",
    "        print('p-value: %f' % result[1])\n",
    "        print('Critical Values:')\n",
    "        for key, value in result[4].items():\n",
    "            print('\\t%s: %.3f' % (key, value))\n",
    "            if result[0] > result[4]['5%']:\n",
    "                print(f'{col} is non-stationary\\n')\n",
    "            else:\n",
    "                print(f'{col} is stationary\\n')"
   ]
  },
  {
   "cell_type": "code",
   "execution_count": 33,
   "metadata": {},
   "outputs": [
    {
     "name": "stdout",
     "output_type": "stream",
     "text": [
      "Open:\n",
      "ADF Statistic: 1.356088\n",
      "p-value: 0.996905\n",
      "Critical Values:\n",
      "\t1%: -3.437\n",
      "Open is non-stationary\n",
      "\n",
      "\t5%: -2.865\n",
      "Open is non-stationary\n",
      "\n",
      "\t10%: -2.568\n",
      "Open is non-stationary\n",
      "\n",
      "High:\n",
      "ADF Statistic: 1.470658\n",
      "p-value: 0.997413\n",
      "Critical Values:\n",
      "\t1%: -3.437\n",
      "High is non-stationary\n",
      "\n",
      "\t5%: -2.865\n",
      "High is non-stationary\n",
      "\n",
      "\t10%: -2.568\n",
      "High is non-stationary\n",
      "\n",
      "Low:\n",
      "ADF Statistic: 1.373562\n",
      "p-value: 0.996991\n",
      "Critical Values:\n",
      "\t1%: -3.437\n",
      "Low is non-stationary\n",
      "\n",
      "\t5%: -2.865\n",
      "Low is non-stationary\n",
      "\n",
      "\t10%: -2.568\n",
      "Low is non-stationary\n",
      "\n",
      "Close:\n",
      "ADF Statistic: 1.376784\n",
      "p-value: 0.997006\n",
      "Critical Values:\n",
      "\t1%: -3.437\n",
      "Close is non-stationary\n",
      "\n",
      "\t5%: -2.865\n",
      "Close is non-stationary\n",
      "\n",
      "\t10%: -2.568\n",
      "Close is non-stationary\n",
      "\n",
      "Volume:\n",
      "ADF Statistic: -8.613119\n",
      "p-value: 0.000000\n",
      "Critical Values:\n",
      "\t1%: -3.437\n",
      "Volume is stationary\n",
      "\n",
      "\t5%: -2.865\n",
      "Volume is stationary\n",
      "\n",
      "\t10%: -2.568\n",
      "Volume is stationary\n",
      "\n"
     ]
    }
   ],
   "source": [
    "# Thực hiện kiểm tra tính ổn định trên tập train (bỏ qua thuộc tính 'Adj Close' vì có độ tương quan cao)\n",
    "check_stationarity(train_data[['Open', 'High', 'Low', 'Close', 'Volume']])"
   ]
  },
  {
   "attachments": {},
   "cell_type": "markdown",
   "metadata": {},
   "source": [
    "##### Chuyển dữ liệu về dạng ổn định sử dụng kỹ thuật sai phân (first difference)"
   ]
  },
  {
   "cell_type": "code",
   "execution_count": 34,
   "metadata": {},
   "outputs": [],
   "source": [
    "train_diff = train_data[['Open', 'High', 'Low', 'Close', 'Volume']].diff().dropna()"
   ]
  },
  {
   "cell_type": "code",
   "execution_count": 35,
   "metadata": {},
   "outputs": [
    {
     "name": "stdout",
     "output_type": "stream",
     "text": [
      "Open:\n",
      "ADF Statistic: -33.138537\n",
      "p-value: 0.000000\n",
      "Critical Values:\n",
      "\t1%: -3.437\n",
      "Open is stationary\n",
      "\n",
      "\t5%: -2.865\n",
      "Open is stationary\n",
      "\n",
      "\t10%: -2.568\n",
      "Open is stationary\n",
      "\n",
      "High:\n",
      "ADF Statistic: -30.170391\n",
      "p-value: 0.000000\n",
      "Critical Values:\n",
      "\t1%: -3.437\n",
      "High is stationary\n",
      "\n",
      "\t5%: -2.865\n",
      "High is stationary\n",
      "\n",
      "\t10%: -2.568\n",
      "High is stationary\n",
      "\n",
      "Low:\n",
      "ADF Statistic: -18.346109\n",
      "p-value: 0.000000\n",
      "Critical Values:\n",
      "\t1%: -3.437\n",
      "Low is stationary\n",
      "\n",
      "\t5%: -2.865\n",
      "Low is stationary\n",
      "\n",
      "\t10%: -2.568\n",
      "Low is stationary\n",
      "\n",
      "Close:\n",
      "ADF Statistic: -7.267626\n",
      "p-value: 0.000000\n",
      "Critical Values:\n",
      "\t1%: -3.437\n",
      "Close is stationary\n",
      "\n",
      "\t5%: -2.865\n",
      "Close is stationary\n",
      "\n",
      "\t10%: -2.568\n",
      "Close is stationary\n",
      "\n",
      "Volume:\n",
      "ADF Statistic: -10.696765\n",
      "p-value: 0.000000\n",
      "Critical Values:\n",
      "\t1%: -3.437\n",
      "Volume is stationary\n",
      "\n",
      "\t5%: -2.865\n",
      "Volume is stationary\n",
      "\n",
      "\t10%: -2.568\n",
      "Volume is stationary\n",
      "\n"
     ]
    }
   ],
   "source": [
    "#Kiểm tra lại tính ổn định\n",
    "check_stationarity(train_diff)"
   ]
  },
  {
   "attachments": {},
   "cell_type": "markdown",
   "metadata": {},
   "source": [
    "##### Tìm rank của ma trận cointegration"
   ]
  },
  {
   "cell_type": "code",
   "execution_count": 36,
   "metadata": {},
   "outputs": [
    {
     "name": "stdout",
     "output_type": "stream",
     "text": [
      "Johansen cointegration test using trace test statistic with 5% significance level\n",
      "=====================================\n",
      "r_0 r_1 test statistic critical value\n",
      "-------------------------------------\n",
      "  0   5          3844.          69.82\n",
      "  1   5          2759.          47.85\n",
      "  2   5          1822.          29.80\n",
      "  3   5          1010.          15.49\n",
      "  4   5          328.3          3.841\n",
      "-------------------------------------\n"
     ]
    }
   ],
   "source": [
    "rank = select_coint_rank(train_diff, det_order=0, k_ar_diff=1, method='trace', signif=0.05)\n",
    "print(rank)"
   ]
  },
  {
   "attachments": {},
   "cell_type": "markdown",
   "metadata": {},
   "source": [
    "##### Tìm số lượng lag order tối ưu dựa vào mô hình VAR cơ bản (Underlying VAR Model)"
   ]
  },
  {
   "cell_type": "code",
   "execution_count": 37,
   "metadata": {},
   "outputs": [
    {
     "name": "stderr",
     "output_type": "stream",
     "text": [
      "c:\\Users\\pc\\AppData\\Local\\Programs\\Python\\Python311\\Lib\\site-packages\\statsmodels\\tsa\\base\\tsa_model.py:473: ValueWarning: An unsupported index was provided and will be ignored when e.g. forecasting.\n",
      "  self._init_dates(dates, freq)\n"
     ]
    }
   ],
   "source": [
    "# Fit VAR model to get lag order selection\n",
    "var_model = VAR(train_diff)\n",
    "var_results = var_model.fit(maxlags=20, ic='aic')\n",
    "\n",
    "# Select optimal lag order\n",
    "lag_order = var_results.k_ar"
   ]
  },
  {
   "cell_type": "code",
   "execution_count": 38,
   "metadata": {},
   "outputs": [],
   "source": [
    "# Fit mô hình VAR với (số lượng lag tối ưu - 1)\n",
    "var_results = var_model.fit(maxlags=(lag_order-1), ic='aic')\n",
    "# Lấy ma trận tham số từ mô hình VAR:\n",
    "var_params = var_results.params"
   ]
  },
  {
   "attachments": {},
   "cell_type": "markdown",
   "metadata": {},
   "source": [
    "##### Training mô hình VECM với rank = 5"
   ]
  },
  {
   "cell_type": "code",
   "execution_count": 39,
   "metadata": {},
   "outputs": [
    {
     "name": "stderr",
     "output_type": "stream",
     "text": [
      "c:\\Users\\pc\\AppData\\Local\\Programs\\Python\\Python311\\Lib\\site-packages\\statsmodels\\tsa\\base\\tsa_model.py:473: ValueWarning: An unsupported index was provided and will be ignored when e.g. forecasting.\n",
      "  self._init_dates(dates, freq)\n"
     ]
    }
   ],
   "source": [
    "model = VECM(train_diff, k_ar_diff=1, coint_rank=5, deterministic='ci')"
   ]
  },
  {
   "cell_type": "code",
   "execution_count": 40,
   "metadata": {},
   "outputs": [],
   "source": [
    "# Áp dụng ma trận tham số từ mô hình VAR vào mô hình VECM:\n",
    "model._params = var_params\n",
    "# Fit VECM model\n",
    "results_model = model.fit()"
   ]
  },
  {
   "attachments": {},
   "cell_type": "markdown",
   "metadata": {},
   "source": [
    "##### Thực hiện quá trình testing & validate"
   ]
  },
  {
   "cell_type": "code",
   "execution_count": 41,
   "metadata": {},
   "outputs": [],
   "source": [
    "# Thực hiện kỹ thuật sai phân trên tập test và validate\n",
    "test_diff = test_data[['Open', 'High', 'Low', 'Close', 'Volume']].diff()\n",
    "val_diff = val_data[['Open', 'High', 'Low', 'Close', 'Volume']].diff()"
   ]
  },
  {
   "cell_type": "code",
   "execution_count": 42,
   "metadata": {},
   "outputs": [],
   "source": [
    "# Dự đoán trên tập test và tập validate\n",
    "pred_diff_test = results_model.predict(steps=len(test_data), alpha=0.05)\n",
    "pred_diff_validate = results_model.predict(steps=len(val_data), alpha=0.05)"
   ]
  },
  {
   "cell_type": "code",
   "execution_count": 43,
   "metadata": {},
   "outputs": [],
   "source": [
    "# Khôi phục giá trị dự đoán từ dạng sai phân về dạng ban đầu trên tập test\n",
    "test_forecast_restored = test_diff.copy()\n",
    "test_forecast_restored.loc[-1] = train_data.iloc[-2]\n",
    "test_forecast_restored['Open'] = test_diff['Open'].cumsum() + train_data['Open'].iloc[-1]\n",
    "test_forecast_restored['High'] = test_diff['High'].cumsum() + train_data['High'].iloc[-1]\n",
    "test_forecast_restored['Low'] = test_diff['Low'].cumsum() + train_data['Low'].iloc[-1]\n",
    "test_forecast_restored['Close'] = test_diff['Close'].cumsum() + train_data['Close'].iloc[-1]\n",
    "test_forecast_restored['Volume'] = test_diff['Volume'].cumsum() + train_data['Volume'].iloc[-1]\n",
    "test_forecast_restored = test_forecast_restored.sort_index().iloc[1:]\n",
    "\n",
    "# Khôi phục giá trị dự đoán từ dạng sai phân về dạng ban đầu trên tập validate\n",
    "val_forecast_restored = val_diff.copy()\n",
    "val_forecast_restored.loc[-1] = test_data.iloc[-2]\n",
    "val_forecast_restored['Open'] = val_diff['Open'].cumsum() + test_data['Open'].iloc[-1]\n",
    "val_forecast_restored['High'] = val_diff['High'].cumsum() + test_data['High'].iloc[-1]\n",
    "val_forecast_restored['Low'] = val_diff['Low'].cumsum() + test_data['Low'].iloc[-1]\n",
    "val_forecast_restored['Close'] = val_diff['Close'].cumsum() + test_data['Close'].iloc[-1]\n",
    "val_forecast_restored['Volume'] = val_diff['Volume'].cumsum() + test_data['Volume'].iloc[-1]\n",
    "val_forecast_restored = val_forecast_restored.sort_index().iloc[1:]"
   ]
  },
  {
   "attachments": {},
   "cell_type": "markdown",
   "metadata": {},
   "source": [
    "##### Dự đoán giá trị trong 30 ngày tương lai"
   ]
  },
  {
   "cell_type": "code",
   "execution_count": 44,
   "metadata": {},
   "outputs": [],
   "source": [
    "# Quá trình tạo dataframe để lưu trữ dự đoán 30 ngày tiếp theo\n",
    "start_date = datetime.strptime('2023-06-17', '%Y-%m-%d')\n",
    "num_days = 30 # Số lượng ngày muốn dự đoán\n",
    "future_data = pd.DataFrame(index=range(num_days), columns=['Date', 'Close'])\n",
    "future_data['Date'] = [start_date + timedelta(days=i) for i in range(num_days)] # Gắn các ngày tương ứng"
   ]
  },
  {
   "cell_type": "code",
   "execution_count": 45,
   "metadata": {},
   "outputs": [],
   "source": [
    "# Dự đoán giá trị 'Close' cho tương lai\n",
    "future_data['Close'] = 0  # Khởi tạo cột 'Close' trong future_data\n",
    "\n",
    "# Chuyển đổi dữ liệu tương lai sang định dạng tương thích với mô hình\n",
    "future_data_diff = future_data[['Close']].diff().dropna()  # Tính sai số giữa các giá trị liền kề\n",
    "pred_diff_future = results_model.predict(steps=len(future_data_diff), alpha=0.05)\n",
    "\n",
    "# Khôi phục giá trị dự đoán trên tập tương lai\n",
    "future_data_restored = future_data_diff.copy()\n",
    "future_data_restored.loc[-1] = val_data.iloc[-1]  # Sử dụng giá trị cuối cùng của tập validate làm giá trị đầu tiên\n",
    "future_data_restored['Close'] = pd.Series(pred_diff_future[0][:, 3]).cumsum() + val_data['Close'].iloc[-1]\n",
    "future_data_restored = future_data_restored.sort_index().iloc[1:]\n",
    "\n",
    "# Kết quả dự đoán giá trị 'Close' trong tương lai\n",
    "future_data['Close'] = future_data_restored['Close']"
   ]
  },
  {
   "cell_type": "code",
   "execution_count": 46,
   "metadata": {},
   "outputs": [
    {
     "name": "stdout",
     "output_type": "stream",
     "text": [
      "           Date       Close\n",
      "1395 2023-06-18  123.891428\n",
      "1396 2023-06-19  123.888162\n",
      "1397 2023-06-20  123.975922\n",
      "1398 2023-06-21  124.097578\n",
      "1399 2023-06-22  124.175022\n",
      "1400 2023-06-23  124.272588\n",
      "1401 2023-06-24  124.365835\n",
      "1402 2023-06-25  124.457706\n",
      "1403 2023-06-26  124.551976\n",
      "1404 2023-06-27  124.644394\n",
      "1405 2023-06-28  124.737671\n",
      "1406 2023-06-29  124.830895\n",
      "1407 2023-06-30  124.923835\n",
      "1408 2023-07-01  125.017027\n",
      "1409 2023-07-02  125.110119\n",
      "1410 2023-07-03  125.203204\n",
      "1411 2023-07-04  125.296326\n",
      "1412 2023-07-05  125.389422\n",
      "1413 2023-07-06  125.482527\n",
      "1414 2023-07-07  125.575633\n",
      "1415 2023-07-08  125.668735\n",
      "1416 2023-07-09  125.761840\n",
      "1417 2023-07-10  125.854944\n",
      "1418 2023-07-11  125.948048\n",
      "1419 2023-07-12  126.041153\n",
      "1420 2023-07-13  126.134257\n",
      "1421 2023-07-14  126.227361\n",
      "1422 2023-07-15  126.320465\n"
     ]
    }
   ],
   "source": [
    "# Lấy số thứ tự cuối cùng của val_data\n",
    "last_index_val = val_data.index[-1]\n",
    "\n",
    "# Đánh số lại future_data từ số thứ tự cuối cùng của val_data\n",
    "future_data = future_data.reset_index(drop=True)\n",
    "future_data.index = future_data.index + last_index_val + 1\n",
    "\n",
    "# Hiển thị dữ liệu dự đoán\n",
    "print(future_data.dropna())"
   ]
  },
  {
   "attachments": {},
   "cell_type": "markdown",
   "metadata": {},
   "source": [
    "##### Tính các giá trị độ đo"
   ]
  },
  {
   "cell_type": "code",
   "execution_count": 47,
   "metadata": {},
   "outputs": [
    {
     "name": "stdout",
     "output_type": "stream",
     "text": [
      "Validation RMSE: 1.4099960327148575\n",
      "Testing RMSE: 1.410003662109375\n",
      "Validation MAPE: 1.3941086835638408\n",
      "Testing MAPE: 1.1756915716673093\n",
      "Validation MAE: 1.409996032714858\n",
      "Testing MAE: 1.410003662109375\n",
      "Validation MSE: 1.9880888122716378\n",
      "Testing MSE: 1.9881103271618485\n"
     ]
    }
   ],
   "source": [
    "# Tính RMSE\n",
    "valid_rmse = np.sqrt(np.mean((val_forecast_restored['Close'] - val_data['Close'])**2))\n",
    "test_rmse = np.sqrt(np.mean((test_forecast_restored['Close'] - test_data['Close'])**2))\n",
    "print('Validation RMSE:', valid_rmse)\n",
    "print('Testing RMSE:', test_rmse)\n",
    "\n",
    "# Tính MAPE\n",
    "val_mape = np.mean(np.abs((val_data['Close'] - val_forecast_restored['Close']) / val_data['Close'])) * 100\n",
    "test_mape = np.mean(np.abs((test_data['Close'] - test_forecast_restored['Close']) / test_data['Close'])) * 100\n",
    "print('Validation MAPE:', val_mape)\n",
    "print('Testing MAPE:', test_mape)\n",
    "\n",
    "# Tính MAE (Mean Absolute Error)\n",
    "val_mae = np.mean(np.abs(val_forecast_restored['Close'] - val_data['Close']))\n",
    "test_mae = np.mean(np.abs(test_forecast_restored['Close'] - test_data['Close']))\n",
    "print('Validation MAE:', val_mae)\n",
    "print('Testing MAE:', test_mae)\n",
    "\n",
    "# Tính MSE (Mean Squared Error)\n",
    "val_mse = np.mean((val_forecast_restored['Close'] - val_data['Close'])**2)\n",
    "test_mse = np.mean((test_forecast_restored['Close'] - test_data['Close'])**2)\n",
    "print('Validation MSE:', val_mse)\n",
    "print('Testing MSE:', test_mse)"
   ]
  },
  {
   "attachments": {},
   "cell_type": "markdown",
   "metadata": {},
   "source": [
    "##### Vẽ biểu đồ"
   ]
  },
  {
   "cell_type": "code",
   "execution_count": 48,
   "metadata": {},
   "outputs": [
    {
     "data": {
      "image/png": "[encoded data removed]",
      "text/plain": [
       "<Figure size 640x480 with 1 Axes>"
      ]
     },
     "metadata": {},
     "output_type": "display_data"
    }
   ],
   "source": [
    "plt.plot(train_data.index, train_data['Close'])\n",
    "plt.plot(test_data.index, test_data['Close'])\n",
    "plt.plot(test_data.index, test_forecast_restored['Close'])\n",
    "plt.plot(val_data.index, val_data['Close'])\n",
    "plt.plot(val_data.index, val_forecast_restored['Close'])\n",
    "plt.plot(future_data.index, future_data['Close'])\n",
    "plt.legend(['Train', 'Test', 'TestPredictions','Validate', 'Val.Predictions', 'Pred.Next30Days'])\n",
    "plt.show()"
   ]
  }
 ],
 "metadata": {
  "kernelspec": {
   "display_name": "Python 3",
   "language": "python",
   "name": "python3"
  },
  "language_info": {
   "codemirror_mode": {
    "name": "ipython",
    "version": 3
   },
   "file_extension": ".py",
   "mimetype": "text/x-python",
   "name": "python",
   "nbconvert_exporter": "python",
   "pygments_lexer": "ipython3",
   "version": "3.11.2"
  },
  "orig_nbformat": 4
 },
 "nbformat": 4,
 "nbformat_minor": 2
}
